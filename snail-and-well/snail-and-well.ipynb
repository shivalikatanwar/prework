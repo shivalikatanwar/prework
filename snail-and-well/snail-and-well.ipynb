{
 "cells": [
  {
   "cell_type": "markdown",
   "metadata": {},
   "source": [
    "# Snail and well\n",
    "\n",
    "A snail falls at the bottom of a 125 cm well. Each day the snail rises 30 cm. But at night, while sleeping, slides 20 cm because the walls are wet. How many days does it take to escape from the well?\n",
    "\n",
    "TIP: http://puzzles.nigelcoldwell.co.uk/sixtytwo.htm"
   ]
  },
  {
   "cell_type": "markdown",
   "metadata": {},
   "source": [
    "## Solución"
   ]
  },
  {
   "cell_type": "code",
   "execution_count": 1,
   "metadata": {},
   "outputs": [
    {
     "name": "stdout",
     "output_type": "stream",
     "text": [
      "Days =  10.5\n"
     ]
    }
   ],
   "source": [
    "# Assign problem data to variables with representative names\n",
    "\n",
    "# well height, daily advance, night retreat, accumulated distance\n",
    "well_depth = -125\n",
    "day_distance = 30\n",
    "night_distance = -20\n",
    "\n",
    "# Assign 0 to the variable that represents the solution\n",
    "days = 0\n",
    "\n",
    "# Write the code that solves the problem\n",
    "while well_depth < 0:\n",
    "    \n",
    "    well_depth += day_distance\n",
    "    days += 0.5\n",
    "    if well_depth >= 0 :\n",
    "        break\n",
    "\n",
    "    \n",
    "    well_depth += night_distance\n",
    "    days += 0.5\n",
    "    if well_depth >= 0 :\n",
    "        break\n",
    "\n",
    "# Print the result with print('Days =', days)\n",
    "print ( \"Days = \", days)"
   ]
  },
  {
   "cell_type": "markdown",
   "metadata": {},
   "source": [
    "## Goals\n",
    "\n",
    "1. Treatment of variables\n",
    "2. Use of loop **while**\n",
    "3. Use of conditional **if-else**\n",
    "4. Print in console"
   ]
  },
  {
   "cell_type": "markdown",
   "metadata": {},
   "source": [
    "## Bonus\n",
    "The distance traveled by the snail is now defined by a list.\n",
    "```\n",
    "advance_cm = [30, 21, 33, 77, 44, 45, 23, 45, 12, 34, 55]\n",
    "```\n",
    "How long does it take to raise the well?\n",
    "\n",
    "What is its maximum displacement in one day? And its minimum?\n",
    "\n",
    "What is its average speed during the day?\n",
    "\n",
    "What is the standard deviation of its displacement during the day?"
   ]
  },
  {
   "cell_type": "code",
   "execution_count": 6,
   "metadata": {},
   "outputs": [
    {
     "name": "stdout",
     "output_type": "stream",
     "text": [
      "Days: 4\n",
      "max: 77\n",
      "min: 12\n",
      "average: 38.09090909090909\n",
      "standard deviation: 17.996969441850734\n"
     ]
    }
   ],
   "source": [
    "# Assign problem data to variables with representative names\n",
    "# well height, daily advance, night retreat, accumulated distance\n",
    "advance_cm = [30, 21, 33, 77, 44, 45, 23, 45, 12, 34, 55]\n",
    "\n",
    "# Assign 0 to the variable that represents the solution\n",
    "sum=0\n",
    "\n",
    "\n",
    "# Write the code that solves the problem\n",
    "l=[]\n",
    "for i in advance_cm:\n",
    "    if sum<=125:\n",
    "        sum+=i\n",
    "        l.append(i)\n",
    "\n",
    "\n",
    "# Print the result with print('Days =', days)\n",
    "print(\"Days:\",len(l))\n",
    "\n",
    "\n",
    "# What is its maximum displacement in a day? And its minimum?\n",
    "print(\"max:\",max(advance_cm))\n",
    "print(\"min:\",min(advance_cm))\n",
    "\n",
    "\n",
    "# What is its average progress?\n",
    "sum=0\n",
    "for i in advance_cm:\n",
    "    sum+=i\n",
    "print(\"average:\",sum/len(advance_cm))\n",
    "\n",
    "# What is the standard deviation of your displacement during the day?\n",
    "import statistics\n",
    "print(\"standard deviation:\",statistics.stdev(advance_cm))\n"
   ]
  }
 ],
 "metadata": {
  "kernelspec": {
   "display_name": "Python 3",
   "language": "python",
   "name": "python3"
  },
  "language_info": {
   "codemirror_mode": {
    "name": "ipython",
    "version": 3
   },
   "file_extension": ".py",
   "mimetype": "text/x-python",
   "name": "python",
   "nbconvert_exporter": "python",
   "pygments_lexer": "ipython3",
   "version": "3.7.3"
  }
 },
 "nbformat": 4,
 "nbformat_minor": 2
}
